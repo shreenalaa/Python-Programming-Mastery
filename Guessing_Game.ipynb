{
 "cells": [
  {
   "cell_type": "code",
   "execution_count": 6,
   "metadata": {},
   "outputs": [
    {
     "data": {
      "text/plain": [
       "72"
      ]
     },
     "execution_count": 6,
     "metadata": {},
     "output_type": "execute_result"
    }
   ],
   "source": [
    "import random\n",
    "\n",
    "actual = random.randint(0,100)     # generate random number between (0,100)\n",
    "actual"
   ]
  },
  {
   "cell_type": "code",
   "execution_count": 1,
   "metadata": {},
   "outputs": [],
   "source": [
    "guesses = []\n",
    "\n",
    "while True :\n",
    "    try :\n",
    "        \n",
    "        guess = int (input())\n",
    "    except  ValueError :      # if input is not int \n",
    "        print(\"Invalid input , try again\")\n",
    "        continue\n",
    "    if guess >100 or guess<0 :\n",
    "        print(\"number is out of range \")\n",
    "        guesses.append(guess)\n",
    "\n",
    "    if guess == actual :\n",
    "        print(\" you guessed the correct  number in \" ,len(guesses) ,'times')\n",
    "        guesses.append(guess)\n",
    "        break\n",
    "    elif len(guesses)<=0 :\n",
    "        print(\"this is your first guess , keep  going \")\n",
    "        guesses.append(guess)\n",
    "\n",
    "    elif abs (guess- actual) > abs(guesses[-1] - actual):\n",
    "        print (\" you are getting farther\")\n",
    "        guesses.append(guess)\n",
    "\n",
    "    else :\n",
    "        print(\"you are getting closer  \")\n",
    "        guesses.append(guess)"
   ]
  }
 ],
 "metadata": {
  "kernelspec": {
   "display_name": "base",
   "language": "python",
   "name": "python3"
  },
  "language_info": {
   "codemirror_mode": {
    "name": "ipython",
    "version": 3
   },
   "file_extension": ".py",
   "mimetype": "text/x-python",
   "name": "python",
   "nbconvert_exporter": "python",
   "pygments_lexer": "ipython3",
   "version": "3.11.3"
  },
  "orig_nbformat": 4
 },
 "nbformat": 4,
 "nbformat_minor": 2
}
