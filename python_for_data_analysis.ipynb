{
 "cells": [
  {
   "cell_type": "markdown",
   "metadata": {
    "id": "jcjhePTczbDT"
   },
   "source": [
    "# Python Data Analysis"
   ]
  },
  {
   "cell_type": "markdown",
   "metadata": {},
   "source": [
    "By: Eng. Mustafa Othman\n",
    "https://www.youtube.com/c/MustafaOthman/"
   ]
  },
  {
   "cell_type": "markdown",
   "metadata": {
    "id": "GVxSxxmDzbDc"
   },
   "source": [
    "=========="
   ]
  },
  {
   "cell_type": "markdown",
   "metadata": {
    "id": "bclBnIb-zbDd"
   },
   "source": [
    "# Full Data Analysis Case-study (E-commerce Website Analysis)"
   ]
  },
  {
   "cell_type": "markdown",
   "metadata": {
    "id": "fM5VhCv3zbDe"
   },
   "source": [
    "### 1] Libraries & Data Importing"
   ]
  },
  {
   "cell_type": "markdown",
   "metadata": {
    "id": "o_PB64nIzbDf"
   },
   "source": [
    "##### Import libraries and read in the Ecommerce Purchases csv file"
   ]
  },
  {
   "cell_type": "code",
   "execution_count": null,
   "metadata": {
    "id": "oB97HSLMzbDg"
   },
   "outputs": [],
   "source": [
    "import numpy as np\n",
    "import pandas as pd\n",
    "import matplotlib.pyplot as plt\n",
    "import seaborn as sns\n",
    "%matplotlib inline\n",
    "sns.set()"
   ]
  },
  {
   "cell_type": "code",
   "execution_count": null,
   "metadata": {
    "id": "T2Q3oTWEzbDi"
   },
   "outputs": [],
   "source": [
    "ecom = pd.read_csv('data/ecommerce-purchases.csv')"
   ]
  },
  {
   "cell_type": "code",
   "execution_count": null,
   "metadata": {
    "id": "Cdunbqv4zbDj"
   },
   "outputs": [],
   "source": []
  },
  {
   "cell_type": "markdown",
   "metadata": {
    "id": "wTNMLj0FzbDk"
   },
   "source": [
    "### 2] Data Understanding (Asking Questions)"
   ]
  },
  {
   "cell_type": "markdown",
   "metadata": {
    "id": "BRiR3MWNzbDl"
   },
   "source": [
    "##### Check the content of the DataFrame"
   ]
  },
  {
   "cell_type": "code",
   "execution_count": null,
   "metadata": {
    "id": "VaAfVlTrzbDl"
   },
   "outputs": [],
   "source": [
    "ecom.head()"
   ]
  },
  {
   "cell_type": "markdown",
   "metadata": {
    "id": "yQf6NX_FzbDm"
   },
   "source": [
    "##### How many rows and columns are there?"
   ]
  },
  {
   "cell_type": "code",
   "execution_count": null,
   "metadata": {
    "id": "pgXTZO3BzbDn"
   },
   "outputs": [],
   "source": [
    "ecom.info()"
   ]
  },
  {
   "cell_type": "code",
   "execution_count": null,
   "metadata": {
    "id": "_T1vW8tozbDn"
   },
   "outputs": [],
   "source": []
  },
  {
   "cell_type": "markdown",
   "metadata": {
    "id": "Cmf07HWEzbDo"
   },
   "source": [
    "### 3] Data Wrangling (Cleaning & Manipulation)"
   ]
  },
  {
   "cell_type": "markdown",
   "metadata": {
    "id": "SLNiesMTzbDo"
   },
   "source": [
    "##### Are there any missing / duplicated data?"
   ]
  },
  {
   "cell_type": "code",
   "execution_count": null,
   "metadata": {
    "id": "ORk16sjzzbDp"
   },
   "outputs": [],
   "source": [
    "ecom.isna().sum()"
   ]
  },
  {
   "cell_type": "code",
   "execution_count": null,
   "metadata": {
    "id": "htmaeYNSzbDp"
   },
   "outputs": [],
   "source": [
    "ecom.duplicated().sum()"
   ]
  },
  {
   "cell_type": "markdown",
   "metadata": {
    "id": "1vPyGDAUzbDp"
   },
   "source": [
    "##### Double-check for the columns names and update any of them if needed"
   ]
  },
  {
   "cell_type": "code",
   "execution_count": null,
   "metadata": {
    "id": "ZFkdW9XEzbDq"
   },
   "outputs": [],
   "source": [
    "ecom.rename(columns={'AM or PM': 'am_pm', 'Browser Info':'browser_info', 'Credit Card':'credit_card'})"
   ]
  },
  {
   "cell_type": "markdown",
   "metadata": {
    "id": "jkdSl9Y4zbDq"
   },
   "source": [
    "##### Can you convert the language column to UpperCases?"
   ]
  },
  {
   "cell_type": "code",
   "execution_count": null,
   "metadata": {
    "id": "1DxI61MPzbDq"
   },
   "outputs": [],
   "source": [
    "ecom['Language'].str.upper()"
   ]
  },
  {
   "cell_type": "code",
   "execution_count": null,
   "metadata": {
    "id": "u--h0s5rzbDr"
   },
   "outputs": [],
   "source": []
  },
  {
   "cell_type": "markdown",
   "metadata": {
    "id": "dUhsCRIrzbDr"
   },
   "source": [
    "### 4] Data Analysis & Visualization (EDA & Statistical Analysis)"
   ]
  },
  {
   "cell_type": "markdown",
   "metadata": {
    "id": "XGxgPDLxzbDr"
   },
   "source": [
    "##### What is the average Purchase Price?"
   ]
  },
  {
   "cell_type": "code",
   "execution_count": null,
   "metadata": {
    "id": "HFBqKSNSzbDr"
   },
   "outputs": [],
   "source": [
    "ecom['Purchase Price'].mean()"
   ]
  },
  {
   "cell_type": "markdown",
   "metadata": {
    "id": "cvKtE5P0zbDr"
   },
   "source": [
    "##### What were the highest and lowest purchase prices?"
   ]
  },
  {
   "cell_type": "code",
   "execution_count": null,
   "metadata": {
    "id": "b6IvV4_xzbDs"
   },
   "outputs": [],
   "source": [
    "ecom['Purchase Price'].max()"
   ]
  },
  {
   "cell_type": "code",
   "execution_count": null,
   "metadata": {
    "id": "ZYugEsYrzbDs"
   },
   "outputs": [],
   "source": [
    "ecom['Purchase Price'].min()"
   ]
  },
  {
   "cell_type": "markdown",
   "metadata": {
    "id": "CudCgOX6zbDs"
   },
   "source": [
    "##### How many people have English 'en' as their Language of choice on the website?"
   ]
  },
  {
   "cell_type": "code",
   "execution_count": null,
   "metadata": {
    "id": "LlTAMPBVzbDs"
   },
   "outputs": [],
   "source": [
    "ecom[ecom['Language']=='en'].count()"
   ]
  },
  {
   "cell_type": "markdown",
   "metadata": {
    "id": "T9WAl_CnzbDs"
   },
   "source": [
    "##### How many people have the job title of \"Lawyer\" ?"
   ]
  },
  {
   "cell_type": "code",
   "execution_count": null,
   "metadata": {
    "id": "T_2bSzsZzbDs"
   },
   "outputs": [],
   "source": [
    "ecom[ecom['Job'] == 'Lawyer'].info()"
   ]
  },
  {
   "cell_type": "markdown",
   "metadata": {
    "id": "qg5WsJrIzbDt"
   },
   "source": [
    "##### How many people made the purchase during the AM and how many people made the purchase during PM ?"
   ]
  },
  {
   "cell_type": "code",
   "execution_count": null,
   "metadata": {
    "id": "GWFOyoX0zbDt"
   },
   "outputs": [],
   "source": [
    "ecom['AM or PM'].value_counts()"
   ]
  },
  {
   "cell_type": "markdown",
   "metadata": {
    "id": "c0G2Fv7nzbDt"
   },
   "source": [
    "##### What are the 5 most common Job Titles? "
   ]
  },
  {
   "cell_type": "code",
   "execution_count": null,
   "metadata": {
    "id": "DndGEYE9zbDt"
   },
   "outputs": [],
   "source": [
    "ecom['Job'].value_counts().head(5)"
   ]
  },
  {
   "cell_type": "markdown",
   "metadata": {
    "id": "sKwL9lepzbDt"
   },
   "source": [
    "##### What is the email of the person with the following Credit Card Number: 4926535242672853"
   ]
  },
  {
   "cell_type": "code",
   "execution_count": null,
   "metadata": {
    "id": "ATlcAnKKzbDu"
   },
   "outputs": [],
   "source": [
    "ecom[ecom[\"Credit Card\"] == 4926535242672853]['Email'] "
   ]
  },
  {
   "cell_type": "markdown",
   "metadata": {
    "id": "2J9_exx1zbDu"
   },
   "source": [
    "##### How many people have American Express as their Credit Card Provider *and made a purchase above  95 USD ?"
   ]
  },
  {
   "cell_type": "code",
   "execution_count": null,
   "metadata": {
    "id": "y5Um7VMfzbDu"
   },
   "outputs": [],
   "source": [
    "ecom[(ecom['CC Provider']=='American Express') & (ecom['Purchase Price']>95)].count()"
   ]
  },
  {
   "cell_type": "markdown",
   "metadata": {
    "id": "o2ZV6PFHzbDu"
   },
   "source": [
    "##### How many people have a credit card that expires in 2025?"
   ]
  },
  {
   "cell_type": "code",
   "execution_count": null,
   "metadata": {
    "id": "Ha0aG-skzbDu"
   },
   "outputs": [],
   "source": [
    "sum(ecom['CC Exp Date'].apply(lambda x: x[3:]) == '25')"
   ]
  },
  {
   "cell_type": "markdown",
   "metadata": {
    "id": "tQWwaQHXzbDu"
   },
   "source": [
    "##### Plot the statistics summary of the 'Purchase Price' column"
   ]
  },
  {
   "cell_type": "code",
   "execution_count": null,
   "metadata": {
    "id": "3lX0YPi7zbDu"
   },
   "outputs": [],
   "source": [
    "ecom['Purchase Price'].plot.box()"
   ]
  },
  {
   "cell_type": "markdown",
   "metadata": {
    "id": "TuVJ8pNbzbDv"
   },
   "source": [
    "##### Plot the count of each customer's 'Language' regarding their 12-hours clock"
   ]
  },
  {
   "cell_type": "code",
   "execution_count": null,
   "metadata": {
    "id": "eJNJJoFWzbDv"
   },
   "outputs": [],
   "source": [
    "plt.figure(figsize=(20,10))\n",
    "sns.countplot(x=ecom['Language'], hue=ecom['AM or PM'])"
   ]
  },
  {
   "cell_type": "code",
   "execution_count": null,
   "metadata": {
    "id": "IL0aB5EBzbDv"
   },
   "outputs": [],
   "source": []
  },
  {
   "cell_type": "markdown",
   "metadata": {
    "id": "OUpxxI9WzbD2"
   },
   "source": [
    "# GOOD LUCK!"
   ]
  }
 ],
 "metadata": {
  "colab": {
   "name": "s00-python-for-data-analysis.ipynb",
   "provenance": []
  },
  "kernelspec": {
   "display_name": "Python 3 (ipykernel)",
   "language": "python",
   "name": "python3"
  },
  "language_info": {
   "codemirror_mode": {
    "name": "ipython",
    "version": 3
   },
   "file_extension": ".py",
   "mimetype": "text/x-python",
   "name": "python",
   "nbconvert_exporter": "python",
   "pygments_lexer": "ipython3",
   "version": "3.9.7"
  }
 },
 "nbformat": 4,
 "nbformat_minor": 1
}
